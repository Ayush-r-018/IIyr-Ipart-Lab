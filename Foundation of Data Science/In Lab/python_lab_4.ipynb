{
 "cells": [
  {
   "cell_type": "markdown",
   "id": "33b19038-55d5-457a-9b40-8128c7fd74f6",
   "metadata": {},
   "source": [
    "## To Prove Central Limit Theorem"
   ]
  },
  {
   "cell_type": "markdown",
   "id": "43bf617a-bf94-4a9a-b634-745bbdb407ce",
   "metadata": {},
   "source": [
    "# Lab Objective:\n",
    "1. To simulate a population (e.g., uniform or exponential distribution).\n",
    "2. To take multiple random samples of a given size from this population and compute their means.\n",
    "3. To observe how the distribution of these sample means approaches a normal distribution as the number of samples and sample size increase.\n",
    "Required Libraries:\n",
    "1. numpy: For data manipulation and random sampling."
   ]
  },
  {
   "cell_type": "code",
   "execution_count": 1,
   "id": "af30120d-7155-468c-8b06-deb1b20b8df7",
   "metadata": {},
   "outputs": [
    {
     "name": "stderr",
     "output_type": "stream",
     "text": [
      "\n",
      "KeyboardInterrupt\n",
      "\n"
     ]
    }
   ],
   "source": [
    "import numpy as np\n",
    "import matplotlib.pyplot as plt\n",
    "import seaborn as sns"
   ]
  },
  {
   "cell_type": "code",
   "execution_count": null,
   "id": "f3a38274-afbc-464d-9554-58a6d1c87cb7",
   "metadata": {},
   "outputs": [],
   "source": [
    "# Set random seed for reproducibility\n",
    "np. random. seed (42)\n",
    "# Step 1: Define a population distribution (non-normal distribution)\n",
    "population_size = 108000\n",
    "sample_sizes = [2, 5, 10, 30, 50, 200]\n",
    "# Sample sizes to demonstrate convergence\n",
    "num_samples = 1000 \n",
    "# Number of samples for each sample size\n",
    "\n",
    "population = np. random.exponential(scale=2, size=population_size)\n",
    "#Here, population siz= 100000, this will generate 100,000 random samples from the exponential distribution with a mec\n",
    "# print(population)\n",
    "# population_mean = np.mean (population)\n",
    "# print (population mean)\n",
    "# Exponential distribution\n",
    "plt.figure(figsize=(10, 6))\n",
    "plt. figure(figsize=(10, 6))\n",
    "sns. histplot(population, bins=59, kde=True, color=\"green\", alpha=0.7) \n",
    "plt.title(\"Population Distribution (Exponential)\", fontsize=16) \n",
    "plt.xlabel(\"Value\", fontsize=14)\n",
    "plt. ylabel(\"Frequency\", fontsize=14)\n",
    "plt.show()"
   ]
  },
  {
   "cell_type": "code",
   "execution_count": null,
   "id": "3d9b7f7e-c759-4c91-bd77-6c35f7707d92",
   "metadata": {},
   "outputs": [],
   "source": [
    "plt.figure(figsize=(14, 10))\n",
    "for i, size in enumerate(sample_sizes, start=1):\n",
    "    sample_means = [np.mean(np.random. choice(population, size=size, replace=False)) \n",
    "                for _ in range(num_samples)]\n",
    "    print(i)\n",
    "    print(size)\n",
    "    print(sample_means)\n",
    "    # Plot the distribution of sample reans \n",
    "    plt. subplot (3, 2, i)\n",
    "    sns.histplot(sample_means, bins=30, kde=True, color=\"orange\", alpha=0.7)\n",
    "    plt.title(f\"Sample Means Distribution (n={size})\", fontsize=14) \n",
    "    plt.xlabel(\"Sample Mean\", fontsize=12) \n",
    "    plt.ylabel(\"Frequency\", fontsize=12)\n",
    "\n",
    "# Step 4: Show the final plots\n",
    "plt.suptitle(\"Demonstration of the Central Limit Theorem\", fontsize=18, y=1.02)\n",
    "plt.tight_layout()\n",
    "plt.show() "
   ]
  },
  {
   "cell_type": "code",
   "execution_count": null,
   "id": "84080531-30a4-4f7e-b2a0-e08b11b6e1d0",
   "metadata": {},
   "outputs": [],
   "source": [
    "# Step 5: Observations\n",
    "print(\"As sample size increases, the sample means distribution converges to a normal distribution, regardless of population's original distribution.\")"
   ]
  },
  {
   "cell_type": "code",
   "execution_count": null,
   "id": "13c40fcf-277b-43f5-ad39-4c9d6bd5ec62",
   "metadata": {},
   "outputs": [],
   "source": []
  }
 ],
 "metadata": {
  "kernelspec": {
   "display_name": "Python 3",
   "language": "python",
   "name": "python3"
  },
  "language_info": {
   "codemirror_mode": {
    "name": "ipython",
    "version": 3
   },
   "file_extension": ".py",
   "mimetype": "text/x-python",
   "name": "python",
   "nbconvert_exporter": "python",
   "pygments_lexer": "ipython3",
   "version": "3.13.2"
  }
 },
 "nbformat": 4,
 "nbformat_minor": 5
}
