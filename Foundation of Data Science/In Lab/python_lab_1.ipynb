{
 "cells": [
  {
   "cell_type": "code",
   "execution_count": 1,
   "id": "b34e9f11-8e03-439b-9068-02f7b4a1db12",
   "metadata": {},
   "outputs": [
    {
     "name": "stdout",
     "output_type": "stream",
     "text": [
      "Hello World\n"
     ]
    }
   ],
   "source": [
    "print('Hello World')"
   ]
  },
  {
   "cell_type": "code",
   "execution_count": 1,
   "id": "d9b1e4af-2ed4-4c3b-9b2c-56b7129448fe",
   "metadata": {},
   "outputs": [],
   "source": [
    "#variable and data types:\n",
    "x=10\n",
    "y=3.56\n",
    "name=\"data\"\n",
    "is_ready = True"
   ]
  },
  {
   "cell_type": "code",
   "execution_count": null,
   "id": "2903a4eb",
   "metadata": {},
   "outputs": [],
   "source": []
  },
  {
   "cell_type": "code",
   "execution_count": 3,
   "id": "78a1041f-489d-4d41-98af-2541dfe26ae3",
   "metadata": {},
   "outputs": [
    {
     "name": "stdout",
     "output_type": "stream",
     "text": [
      "<class 'int'>\n",
      "<class 'float'>\n",
      "<class 'str'>\n",
      "<class 'bool'>\n"
     ]
    }
   ],
   "source": [
    "print(type(x))\n",
    "print(type(y))\n",
    "print(type(name))\n",
    "print(type(is_ready))"
   ]
  },
  {
   "cell_type": "code",
   "execution_count": 4,
   "id": "be862580-a531-43ea-9d4b-aa41f92fc022",
   "metadata": {},
   "outputs": [
    {
     "name": "stdout",
     "output_type": "stream",
     "text": [
      "False\n",
      "True\n",
      "False\n"
     ]
    }
   ],
   "source": [
    "a=True\n",
    "b=False\n",
    "\n",
    "print(a and b)\n",
    "print(a or b)\n",
    "print(not a)"
   ]
  },
  {
   "cell_type": "code",
   "execution_count": 5,
   "id": "d2a479ee-8bdf-42fe-91cb-b38a5de15980",
   "metadata": {},
   "outputs": [
    {
     "name": "stdout",
     "output_type": "stream",
     "text": [
      "1\n"
     ]
    }
   ],
   "source": [
    "#list and disctionary\n",
    "numbers=[1,2,3,4]\n",
    "print(numbers[0])"
   ]
  },
  {
   "cell_type": "code",
   "execution_count": 6,
   "id": "193513f3-f6b1-4eb9-ac93-9e387513a405",
   "metadata": {},
   "outputs": [
    {
     "name": "stdout",
     "output_type": "stream",
     "text": [
      "[1, 2, 20, 4, 5]\n"
     ]
    }
   ],
   "source": [
    "numbers.append(5) #addan element :numbers\n",
    "#becomes [1,2,3,4,5]\n",
    "numbers[2]=20\n",
    "print(numbers)"
   ]
  },
  {
   "cell_type": "code",
   "execution_count": 7,
   "id": "b90ab20b-2f21-43eb-9431-199152b24929",
   "metadata": {},
   "outputs": [
    {
     "name": "stdout",
     "output_type": "stream",
     "text": [
      "1\n"
     ]
    }
   ],
   "source": [
    "#creating a list\n",
    "my_list =[1,\"hello\",3.14,True]\n",
    "\n",
    "#accessing elements\n",
    "print(my_list[0])"
   ]
  },
  {
   "cell_type": "code",
   "execution_count": 8,
   "id": "dad69983-1048-422c-af15-c9942e429502",
   "metadata": {},
   "outputs": [
    {
     "name": "stdout",
     "output_type": "stream",
     "text": [
      "[1, 'world', 3.14, True]\n"
     ]
    }
   ],
   "source": [
    "#modifying elements\n",
    "my_list[1]=\"world\"\n",
    "print(my_list)"
   ]
  },
  {
   "cell_type": "code",
   "execution_count": 9,
   "id": "cd2547c9-b257-448d-9d49-9bfb27f19a75",
   "metadata": {},
   "outputs": [
    {
     "name": "stdout",
     "output_type": "stream",
     "text": [
      "[1, 'world', 3.14, True, 42]\n"
     ]
    }
   ],
   "source": [
    "#adding elements\n",
    "my_list.append(42)\n",
    "print(my_list)"
   ]
  },
  {
   "cell_type": "code",
   "execution_count": 10,
   "id": "fefc5820-478b-4dfc-a369-114c10d05d63",
   "metadata": {},
   "outputs": [
    {
     "name": "stdout",
     "output_type": "stream",
     "text": [
      "{'name': 'ayush', 'age': 21}\n"
     ]
    }
   ],
   "source": [
    "person={'name':\"ayush\",\"age\":21}\n",
    "print(person)"
   ]
  },
  {
   "cell_type": "code",
   "execution_count": 11,
   "id": "ad0f5194-fb7d-4314-bee7-bb08a5bb45ca",
   "metadata": {},
   "outputs": [
    {
     "name": "stdout",
     "output_type": "stream",
     "text": [
      "The are of the rectangle is 8\n"
     ]
    }
   ],
   "source": [
    "# Variables and arithmetic\n",
    "length = 5\n",
    "width = 3\n",
    "area = length + width\n",
    "print(f\"The are of the rectangle is {area}\")"
   ]
  },
  {
   "cell_type": "code",
   "execution_count": 12,
   "id": "bbc65a34-fd2e-4926-915c-d60a419dd2e1",
   "metadata": {},
   "outputs": [
    {
     "name": "stdout",
     "output_type": "stream",
     "text": [
      "list: [10, 20, 30, 40, 50]\n",
      "Max: 50\n",
      "min 10\n",
      "Average: 30.0\n"
     ]
    }
   ],
   "source": [
    "numbers=[10,20,30,40,50]\n",
    "print(\"list:\",numbers)\n",
    "print(\"Max:\",max(numbers))\n",
    "print(\"min\",min(numbers))\n",
    "print(\"Average:\",sum(numbers)/len(numbers))"
   ]
  },
  {
   "cell_type": "code",
   "execution_count": 3,
   "id": "643120a8",
   "metadata": {},
   "outputs": [
    {
     "name": "stdout",
     "output_type": "stream",
     "text": [
      "[ 2  4  6  8 10]\n"
     ]
    }
   ],
   "source": [
    "import numpy as np\n",
    "#create a Numpy array\n",
    "array = np.array([1, 2, 3, 4, 5])\n",
    "print(array*2)"
   ]
  },
  {
   "cell_type": "code",
   "execution_count": 7,
   "id": "42e98e36",
   "metadata": {},
   "outputs": [
    {
     "name": "stdout",
     "output_type": "stream",
     "text": [
      "       Name  Age\n",
      "0     Ayush   21\n",
      "1  Rauniyar   24\n"
     ]
    }
   ],
   "source": [
    "import pandas as pd\n",
    "#create a pandas DataFrame\n",
    "data = pd.DataFrame({'Name': ['Ayush', 'Rauniyar'], 'Age': [21, 24]})\n",
    "#Access a column\n",
    "print(data)"
   ]
  },
  {
   "cell_type": "code",
   "execution_count": 6,
   "id": "9a4aff89",
   "metadata": {},
   "outputs": [
    {
     "name": "stdout",
     "output_type": "stream",
     "text": [
      "a    10\n",
      "b    20\n",
      "c    30\n",
      "dtype: int64\n"
     ]
    }
   ],
   "source": [
    "import pandas as pd\n",
    "NewSeries = pd.Series([10, 20, 30], index=['a', 'b', 'c'])\n",
    "print(NewSeries)"
   ]
  },
  {
   "cell_type": "code",
   "execution_count": 8,
   "id": "2575382d",
   "metadata": {},
   "outputs": [
    {
     "name": "stdout",
     "output_type": "stream",
     "text": [
      "0    10\n",
      "1    20\n",
      "2    30\n",
      "3    40\n",
      "dtype: int64\n"
     ]
    }
   ],
   "source": [
    "import pandas as pd\n",
    "\n",
    "#Creating a Series from a List\n",
    "data = pd.Series([10, 20, 30, 40])\n",
    "print(data)"
   ]
  },
  {
   "cell_type": "code",
   "execution_count": 9,
   "id": "6e803e49",
   "metadata": {},
   "outputs": [
    {
     "name": "stdout",
     "output_type": "stream",
     "text": [
      "      Name  Age  Salary\n",
      "0    Alice   25   50000\n",
      "1      Bob   30   60000\n",
      "2  Charlie   35   70000\n"
     ]
    }
   ],
   "source": [
    "# Creating a DataFrame from a dictionary\n",
    "data = {\n",
    "    'Name': ['Alice', 'Bob', 'Charlie'],\n",
    "    'Age' : [25, 30, 35],\n",
    "    'Salary': [50000, 60000, 70000]\n",
    "}\n",
    "df = pd.DataFrame(data)\n",
    "print(df)"
   ]
  },
  {
   "cell_type": "code",
   "execution_count": 10,
   "id": "1aa97082",
   "metadata": {},
   "outputs": [
    {
     "name": "stdout",
     "output_type": "stream",
     "text": [
      "      Name  Age  Salary   Department\n",
      "0    Alice   25   50000           HR\n",
      "1      Bob   30   60000      Finance\n",
      "2  Charlie   35   70000  Engineering\n"
     ]
    }
   ],
   "source": [
    "# Adding a new Column\n",
    "df['Department'] = ['HR', 'Finance', 'Engineering']\n",
    "print(df)"
   ]
  },
  {
   "cell_type": "code",
   "execution_count": 11,
   "id": "437c7f2b",
   "metadata": {},
   "outputs": [
    {
     "name": "stdout",
     "output_type": "stream",
     "text": [
      "0    25\n",
      "1    30\n",
      "2    35\n",
      "Name: Age, dtype: int64\n",
      "Name              Bob\n",
      "Age                30\n",
      "Salary          60000\n",
      "Department    Finance\n",
      "Name: 1, dtype: object\n"
     ]
    }
   ],
   "source": [
    "# Accessing a column\n",
    "print(df['Age']) # Returns a Series\n",
    "\n",
    "# Accessing a specific row \n",
    "print(df.loc[1]) # Output : row with index 1"
   ]
  },
  {
   "cell_type": "code",
   "execution_count": 20,
   "id": "22ae87fb",
   "metadata": {},
   "outputs": [
    {
     "name": "stdout",
     "output_type": "stream",
     "text": [
      "DataFrame:\n",
      "      Name          Age  Salary\n",
      "0    Alice     New York   70000\n",
      "1      Bob  Los Angeles   80000\n",
      "2  Charlie      Chicago  120000\n",
      "3    David      Houston    9000\n",
      "\n",
      "Accessing the 'Name' column:\n",
      "0      Alice\n",
      "1        Bob\n",
      "2    Charlie\n",
      "3      David\n",
      "Name: Name, dtype: object\n",
      "\n",
      "Filtering rows where Salary > 80000:\n",
      "      Name      Age  Salary\n",
      "2  Charlie  Chicago  120000\n",
      "\n",
      "DataFrame after adding a 'Bonus' column:\n",
      "      Name          Age  Salary    Boous\n",
      "0    Alice     New York   70000   7000.0\n",
      "1      Bob  Los Angeles   80000   8000.0\n",
      "2  Charlie      Chicago  120000  12000.0\n",
      "3    David      Houston    9000    900.0\n",
      "\n",
      "Basic statistics:\n",
      "              Salary         Boous\n",
      "count       4.000000      4.000000\n",
      "mean    69750.000000   6975.000000\n",
      "std     45901.161932   4590.116193\n",
      "min      9000.000000    900.000000\n",
      "25%     54750.000000   5475.000000\n",
      "50%     75000.000000   7500.000000\n",
      "75%     90000.000000   9000.000000\n",
      "max    120000.000000  12000.000000\n",
      "\n",
      "DataFrame sorted by Age:\n",
      "      Name          Age  Salary    Boous\n",
      "2  Charlie      Chicago  120000  12000.0\n",
      "3    David      Houston    9000    900.0\n",
      "1      Bob  Los Angeles   80000   8000.0\n",
      "0    Alice     New York   70000   7000.0\n",
      "\n",
      "DataFrame saved to 'output.csv'\n"
     ]
    }
   ],
   "source": [
    "import pandas as pd \n",
    "\n",
    "# 1. Create a DataFrame\n",
    "data = {\n",
    "    \"Name\": [\"Alice\", \"Bob\", \"Charlie\", \"David\"],\n",
    "    \"Age\": [\"New York\", \"Los Angeles\", \"Chicago\", \"Houston\"],\n",
    "    \"Salary\": [70000, 80000, 120000, 9000]\n",
    "}\n",
    "df = pd.DataFrame(data)\n",
    "\n",
    "# 2. Display The DataFrame\n",
    "print(\"DataFrame:\")\n",
    "print(df)\n",
    "\n",
    "# 3. Access specific columns \n",
    "print(\"\\nAccessing the 'Name' column:\")\n",
    "print(df[\"Name\"])\n",
    "\n",
    "# 4. Filter rows based on a condition \n",
    "print(\"\\nFiltering rows where Salary > 80000:\")\n",
    "print(df[df[\"Salary\"] > 80000])\n",
    "\n",
    "# 5. Add a new column\n",
    "df[\"Boous\"] = df[\"Salary\"] * 0.1\n",
    "print(\"\\nDataFrame after adding a 'Bonus' column:\")\n",
    "print(df)\n",
    "\n",
    "# 6. Basic statistics\n",
    "print(\"\\nBasic statistics:\")\n",
    "print(df.describe())\n",
    "\n",
    "# 7. Sort the DataFrame\n",
    "print(\"\\nDataFrame sorted by Age:\")\n",
    "print(df.sort_values(by='Age'))\n",
    "\n",
    "# 8. Save the DataFrame to a CSV file\n",
    "df.to_csv(\"output.csv\", index=False)\n",
    "print(\"\\nDataFrame saved to 'output.csv'\")\n",
    "\n"
   ]
  },
  {
   "cell_type": "markdown",
   "id": "0b702157",
   "metadata": {},
   "source": []
  },
  {
   "cell_type": "code",
   "execution_count": 25,
   "id": "ab6f0bea",
   "metadata": {},
   "outputs": [
    {
     "name": "stdout",
     "output_type": "stream",
     "text": [
      "First 5 rows of the dataset:\n",
      "   PassengerId  Survived  Pclass  \\\n",
      "0            1         0       3   \n",
      "1            2         1       1   \n",
      "2            3         1       3   \n",
      "3            4         1       1   \n",
      "4            5         0       3   \n",
      "\n",
      "                                                Name     Sex   Age  SibSp  \\\n",
      "0                            Braund, Mr. Owen Harris    male  22.0      1   \n",
      "1  Cumings, Mrs. John Bradley (Florence Briggs Th...  female  38.0      1   \n",
      "2                             Heikkinen, Miss. Laina  female  26.0      0   \n",
      "3       Futrelle, Mrs. Jacques Heath (Lily May Peel)  female  35.0      1   \n",
      "4                           Allen, Mr. William Henry    male  35.0      0   \n",
      "\n",
      "   Parch            Ticket     Fare Cabin Embarked  \n",
      "0      0         A/5 21171   7.2500   NaN        S  \n",
      "1      0          PC 17599  71.2833   C85        C  \n",
      "2      0  STON/O2. 3101282   7.9250   NaN        S  \n",
      "3      0            113803  53.1000  C123        S  \n",
      "4      0            373450   8.0500   NaN        S  \n",
      "\n",
      "Basic information about the datset:\n",
      "<class 'pandas.core.frame.DataFrame'>\n",
      "RangeIndex: 891 entries, 0 to 890\n",
      "Data columns (total 12 columns):\n",
      " #   Column       Non-Null Count  Dtype  \n",
      "---  ------       --------------  -----  \n",
      " 0   PassengerId  891 non-null    int64  \n",
      " 1   Survived     891 non-null    int64  \n",
      " 2   Pclass       891 non-null    int64  \n",
      " 3   Name         891 non-null    object \n",
      " 4   Sex          891 non-null    object \n",
      " 5   Age          714 non-null    float64\n",
      " 6   SibSp        891 non-null    int64  \n",
      " 7   Parch        891 non-null    int64  \n",
      " 8   Ticket       891 non-null    object \n",
      " 9   Fare         891 non-null    float64\n",
      " 10  Cabin        204 non-null    object \n",
      " 11  Embarked     889 non-null    object \n",
      "dtypes: float64(2), int64(5), object(5)\n",
      "memory usage: 83.7+ KB\n",
      "None\n",
      "\n",
      "Survivor coungt (0 = Not survived, 1= Survived):\n",
      "Survived\n",
      "0    549\n",
      "1    342\n",
      "Name: count, dtype: int64\n"
     ]
    }
   ],
   "source": [
    "import pandas as pd\n",
    "\n",
    "# Load the database from a Local file\n",
    "file_path = r\"D:\\3rd_Sem\\Foundation of Data Science\\Titanic.csv\" # Path to the Local Titanic dataset\n",
    "df = pd.read_csv(file_path)\n",
    "\n",
    "# Display the first 5 rows of the datset\n",
    "print(\"First 5 rows of the dataset:\")\n",
    "print(df.head())\n",
    "\n",
    "#Display basic information about the Dataset\n",
    "print(\"\\nBasic information about the datset:\")\n",
    "print(df.info())\n",
    "\n",
    "# Count of survivors (1 = survived, 0 = not survived )\n",
    "survivor_count = df['Survived'].value_counts()\n",
    "print(\"\\nSurvivor coungt (0 = Not survived, 1= Survived):\")\n",
    "print(survivor_count)\n"
   ]
  },
  {
   "cell_type": "code",
   "execution_count": null,
   "id": "01496c40",
   "metadata": {},
   "outputs": [
    {
     "name": "stdout",
     "output_type": "stream",
     "text": [
      "   col1  col2 col3\n",
      "0     5     3    A\n",
      "1    12     6    B\n",
      "2     8     2    C\n",
      "3    15     8    D\n",
      "4     7     4    E\n",
      "            col1      col2\n",
      "count   5.000000  5.000000\n",
      "mean    9.400000  4.600000\n",
      "std     4.037326  2.408319\n",
      "min     5.000000  2.000000\n",
      "25%     7.000000  3.000000\n",
      "50%     8.000000  4.000000\n",
      "75%    12.000000  6.000000\n",
      "max    15.000000  8.000000\n"
     ]
    }
   ],
   "source": [
    "# Data Manipulation \n",
    "import pandas as pd \n",
    "\n",
    "# Load data\n",
    "df = pd.read_csv(\"data.csv\")\n",
    "\n",
    "# Explore\n",
    "print(df.head())\n",
    "print(df.describe()) "
   ]
  }
 ],
 "metadata": {
  "kernelspec": {
   "display_name": "base",
   "language": "python",
   "name": "python3"
  },
  "language_info": {
   "codemirror_mode": {
    "name": "ipython",
    "version": 3
   },
   "file_extension": ".py",
   "mimetype": "text/x-python",
   "name": "python",
   "nbconvert_exporter": "python",
   "pygments_lexer": "ipython3",
   "version": "3.12.7"
  }
 },
 "nbformat": 4,
 "nbformat_minor": 5
}
